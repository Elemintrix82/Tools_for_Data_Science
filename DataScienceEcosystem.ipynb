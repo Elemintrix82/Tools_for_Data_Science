{
 "cells": [
  {
   "cell_type": "markdown",
   "id": "036267d8-1a6d-4273-92f6-6e4e1dcf7454",
   "metadata": {},
   "source": [
    "# Data Science Tools and Ecosystem"
   ]
  },
  {
   "cell_type": "markdown",
   "id": "58e4f1a4-dbfe-495d-9534-7efb1e233d3b",
   "metadata": {},
   "source": [
    "In this notebook, Data Science Tools and Ecosystem are summarized."
   ]
  },
  {
   "cell_type": "markdown",
   "id": "77ee5ac7-eb33-4fe9-8011-64dd60980d1c",
   "metadata": {},
   "source": [
    "**Objectives:**\n",
    "- List popular languages for Data Science\n",
    "- Identify commonly used libraries for Data Science\n",
    "- Introduce open-source Data Science tools\n",
    "- Demonstrate basic arithmetic operations in Python\n",
    "- Show how to convert units in Python"
   ]
  },
  {
   "cell_type": "markdown",
   "id": "9e4625b9-7211-46f4-be15-7d4228adec5e",
   "metadata": {},
   "source": [
    "Some of the popular languages that Data Scientists use are:\n",
    "\n",
    "1. Python\n",
    "2. R\n",
    "3. SQL\n",
    "4. Julia\n",
    "5. Scala"
   ]
  },
  {
   "cell_type": "markdown",
   "id": "20a8292a-9af3-43ec-b6d7-da819f651fb0",
   "metadata": {},
   "source": [
    "Some of the commonly used libraries used by Data Scientists include:\n",
    "\n",
    "- Pandas\n",
    "- NumPy\n",
    "- Matplotlib\n",
    "- Scikit-learn\n",
    "- TensorFlow\n",
    "- PyTorch"
   ]
  },
  {
   "cell_type": "markdown",
   "id": "5a5d2742-fca5-4955-a251-df559a35089f",
   "metadata": {},
   "source": [
    "| Data Science Tools |\n",
    "|--------------------|\n",
    "| Jupyter Notebook   |\n",
    "| RStudio            |\n",
    "| VS Code            |"
   ]
  },
  {
   "cell_type": "markdown",
   "id": "6828918d-57ff-4350-860e-4cd4ad980216",
   "metadata": {},
   "source": [
    "### Below are a few examples of evaluating arithmetic expressions in Python"
   ]
  },
  {
   "cell_type": "code",
   "execution_count": 1,
   "id": "af32a8f1-f925-4b90-96c1-202f093df93a",
   "metadata": {},
   "outputs": [
    {
     "data": {
      "text/plain": [
       "17"
      ]
     },
     "execution_count": 1,
     "metadata": {},
     "output_type": "execute_result"
    }
   ],
   "source": [
    "# Une simple expression arithmétique pour multiplier et additionner des entiers\n",
    "(3 * 4) + 5"
   ]
  },
  {
   "cell_type": "code",
   "execution_count": 2,
   "id": "0433eb43-ed45-4a1b-8e53-64af7e8c9086",
   "metadata": {},
   "outputs": [
    {
     "data": {
      "text/plain": [
       "3.3333333333333335"
      ]
     },
     "execution_count": 2,
     "metadata": {},
     "output_type": "execute_result"
    }
   ],
   "source": [
    "# Convertit 200 minutes en heures en divisant par 60\n",
    "200 / 60"
   ]
  },
  {
   "cell_type": "markdown",
   "id": "7e44ebde-e7f3-453e-a996-413ca40b4ab3",
   "metadata": {},
   "source": [
    "## Author\n",
    "FOTSO TEKAM Valdez Wilsons"
   ]
  },
  {
   "cell_type": "code",
   "execution_count": null,
   "id": "1a5714d7-a9c0-4482-9a21-4e80ec32f7a4",
   "metadata": {},
   "outputs": [],
   "source": []
  }
 ],
 "metadata": {
  "kernelspec": {
   "display_name": "Python 3 (ipykernel)",
   "language": "python",
   "name": "python3"
  },
  "language_info": {
   "codemirror_mode": {
    "name": "ipython",
    "version": 3
   },
   "file_extension": ".py",
   "mimetype": "text/x-python",
   "name": "python",
   "nbconvert_exporter": "python",
   "pygments_lexer": "ipython3",
   "version": "3.12.8"
  }
 },
 "nbformat": 4,
 "nbformat_minor": 5
}
